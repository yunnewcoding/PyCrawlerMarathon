{
 "cells": [
  {
   "cell_type": "markdown",
   "metadata": {},
   "source": [
    "# 資料來源與檔案存取\n",
    "\n",
    "* 資料來源與取得\n",
    "* 開放資料\n",
    "* 資料儲存格式\n",
    "* Python 存取檔案"
   ]
  },
  {
   "cell_type": "markdown",
   "metadata": {},
   "source": [
    "## 作業目標\n",
    "\n",
    "* 1.（簡答題）檔案、API、爬蟲三種取得資料方式有什麼不同？\n",
    "* 2.（實作）完成一個程式，需滿足下列需求：\n",
    "    * 下載指定檔案到 Data 資料夾，存成檔名 Homework.txt\n",
    "    * 檢查 Data 資料夾是否有 Homework.txt 檔名之檔案\n",
    "    * 將「Hello World」字串覆寫到 Homework.txt 檔案\n",
    "    * 檢查 Homework.txt 檔案字數是否符合 Hello World 字數\n"
   ]
  },
  {
   "cell_type": "markdown",
   "metadata": {},
   "source": [
    "### 1.（簡答題）檔案、API、爬蟲三種取得資料方式有什麼不同？"
   ]
  },
  {
   "cell_type": "markdown",
   "metadata": {},
   "source": [
    "### 2.（實作）完成一個程式，需滿足下列需求：\n",
    "    * 下載指定檔案到 Data 資料夾，存成檔名 Homework.txt\n",
    "    * 檢查 Data 資料夾是否有 Homework.txt 檔名之檔案\n",
    "    * 將「Hello World」字串覆寫到 Homework.txt 檔案\n",
    "    * 檢查 Homework.txt 檔案字數是否符合 Hello World 字數\n"
   ]
  },
  {
   "cell_type": "code",
   "execution_count": null,
   "metadata": {},
   "outputs": [],
   "source": [
    "# （簡答題）檔案、API、爬蟲三種取得資料方式有什麼不同？\n",
    "1. 檔案由資料的擁有者主動釋出，將所有資料打包成一個檔案，格式通常為csv, JSON等通用格式。\n",
    "2. API也是由資料的擁有者主動釋出，提供程式化的接口。由於原始資料可能十分龐大，透過API，工程師/分析師可以選擇讀取資料中特定的部分，\n",
    "而不需要把整批資料下載下來。\n",
    "3. 爬蟲是資料以被動公開的方式出現在網頁上，沒有檔案或API可以取得資料，因此使用爬蟲技術抓取網頁中所需的資料。"
   ]
  },
  {
   "cell_type": "code",
   "execution_count": 4,
   "metadata": {},
   "outputs": [
    {
     "data": {
      "text/plain": [
       "('./Data/Homework.txt', <http.client.HTTPMessage at 0x5d38530>)"
      ]
     },
     "execution_count": 4,
     "metadata": {},
     "output_type": "execute_result"
    }
   ],
   "source": [
    "# 下載指定檔案到 Data 資料夾，存成檔名 Homework.txt\n",
    "from urllib.request import urlretrieve # 從 urllib 函式庫的 urllib.request 模組引入下載檔案的函式 urlretrieve\n",
    "urlretrieve(\"https://www.w3.org/TR/PNG/iso_8859-1.txt\", \"./Data/Homework.txt\")  # 下載檔案(\"檔案網址\", \"存檔檔名\")"
   ]
  },
  {
   "cell_type": "code",
   "execution_count": 17,
   "metadata": {},
   "outputs": [
    {
     "name": "stdout",
     "output_type": "stream",
     "text": [
      "Homework.txt\n",
      "yes\n"
     ]
    }
   ],
   "source": [
    "# 檢查 Data 資料夾是否有 Homework.txt 檔名之檔案\n",
    "import os       # os 模組：用來處理檔名、路徑、目錄的模組\n",
    "dirs=os.listdir(\"./Data\")    # os.listdir=回傳該位置的檔案目錄\n",
    "for file in dirs:            # 逐一列出所有檔案\n",
    "    print(file)\n",
    "    if \"Homework.txt\" in file:\n",
    "        print(\"yes\")\n",
    "    else:\n",
    "        print(\"no\")"
   ]
  },
  {
   "cell_type": "code",
   "execution_count": 2,
   "metadata": {},
   "outputs": [],
   "source": [
    "# 將「Hello World」字串覆寫到 Homework.txt 檔案\n",
    "with open(\"./Data/Homework.txt\", mode=\"w\") as file:\n",
    "    file.write(\"Hello World\")\n",
    "    "
   ]
  },
  {
   "cell_type": "code",
   "execution_count": 8,
   "metadata": {},
   "outputs": [
    {
     "name": "stdout",
     "output_type": "stream",
     "text": [
      "11\n",
      "符合\n"
     ]
    }
   ],
   "source": [
    "# 檢查 Homework.txt 檔案字數是否符合 Hello World 字數\n",
    "with open(\"./Data/Homework.txt\",\"w\") as file:\n",
    "    f=file.write(\"Hello World\")\n",
    "    print(f)\n",
    "    \n",
    "with open(\"./Data/Homework.txt\", \"r\") as filer:\n",
    "    fr=filer.read()\n",
    "if len(\"Hello World\")==len(fr):\n",
    "    print(\"符合\")\n",
    "else:\n",
    "    print(\"不符合\")"
   ]
  },
  {
   "cell_type": "code",
   "execution_count": null,
   "metadata": {},
   "outputs": [],
   "source": []
  }
 ],
 "metadata": {
  "kernelspec": {
   "display_name": "Python 3",
   "language": "python",
   "name": "python3"
  },
  "language_info": {
   "codemirror_mode": {
    "name": "ipython",
    "version": 3
   },
   "file_extension": ".py",
   "mimetype": "text/x-python",
   "name": "python",
   "nbconvert_exporter": "python",
   "pygments_lexer": "ipython3",
   "version": "3.7.6"
  }
 },
 "nbformat": 4,
 "nbformat_minor": 2
}
